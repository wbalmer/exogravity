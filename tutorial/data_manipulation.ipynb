{
 "cells": [
  {
   "cell_type": "markdown",
   "metadata": {},
   "source": [
    "A quick overview of the data\n",
    "============================\n",
    "\n",
    "Let’s start this tutorial with a quick overview of what the GRAVITY data\n",
    "look like. The document only deal with dual-field data (as opposed to\n",
    "single-field), at the “astrored” reduction level (so, not the fully\n",
    "pipeline-reduced “scivis” data). There are a couple of important\n",
    "differences between “astrored” data and “scivis”: in the “astrored”, the\n",
    "DITs are kept separate, whereas to create the “scivis”, the pipeline\n",
    "average them; and in “astrored” files, the phase of the visibility is\n",
    "not corrected for fringe-tracker referencing, dispersion correction,\n",
    "non-common path error correction, etc.). The exoGravity pipeline is\n",
    "based on those dual-field astrored data products.\n",
    "\n",
    "Two example data file are provided with this tutorial, which correspond\n",
    "to the same exposure made on 51 Eri, during the night of Nov, 11, 2019.\n",
    "The difference between those two files is that one of them contains a\n",
    "few extra corrections data.\n",
    "\n",
    "-   Pipeline reduced “astrored”:\n",
    "    `GRAVI.2019-11-11T06:29:03.495_astroreduced.fits`\n",
    "\n",
    "-   With additional info from Sylvestre:\n",
    "    `GRAVI.2019-11-11T06:29:03.495_astroreduced_s.fits`\n",
    "\n",
    "To look at what is inside these data files, you can open one of them\n",
    "files with “fv”[1] (see\n",
    "Figure <a href=\"#fig:fv\" data-reference-type=\"ref\" data-reference=\"fig:fv\">1</a>)\n",
    "\n",
    "<figure>\n",
    "<img src=\"attachment:figures/fv.png\" id=\"fig:fv\" alt=\"\" /><figcaption>A GRAVITY data file opened with “fv”, where the different OIs contained in the FITS file are displayed.<span label=\"fig:fv\"></span></figcaption>\n",
    "</figure>\n",
    "\n",
    "Each file is divided in different “OIs”, which contain different fields.\n",
    "Here are the data which are the most useful for exoGravity:\n",
    "\n",
    "-   Primary header: The main header contains several useful\n",
    "    inforoamtion. Some of the not-so-obvious are: `SOBJ X` and `SOBJ Y`,\n",
    "    which give the position of the science fiber with respect to the FT\n",
    "    fiber (RA/DEC, in mas); `SOBJ SWAP` tells whether or not the\n",
    "    exposure is done at the swapped position; `DET2 SEQ1 DIT` and\n",
    "    `NDIT OBJECT` give the integration time (for one DIT, in s), and the\n",
    "    number of DITs in the exposure file\n",
    "\n",
    "-   `OI_WAVELENGTH`: `EFF_WAV` contains the wavelength grid, in meters\n",
    "\n",
    "-   `OI_TARGET`: Not used\n",
    "\n",
    "-   `OI_ARRAY`: Not used\n",
    "\n",
    "-   `OI_VIS`: contains the visibiliy (or baseline-based) data. In\n",
    "    particular, `VISDATA` contain the complex raw visibilities as\n",
    "    extracted by the pipeline, and `VISERR` contain the error on the\n",
    "    real and imaginary parts of the `VISDATA`. `UCOORD` and `VCOORD`\n",
    "    contain the UV coordinates of the baselines, in meters. `PHASE_REF`\n",
    "    contains the phase reference point of the Fringe-Tracker, and\n",
    "    `OPD_DISP` contain the OPD dispersion correction\n",
    "\n",
    "-   `OI_FLUX`: contains the flux data, and some important\n",
    "    telescope-based quantities related to the metrology correction.\n",
    "    `FLUX` and `FLUXERR` give the flux and the associated error bars.\n",
    "    The two quantities `OPD_MET_TELFC_MCORR` and `OPD_MET_FC_CORR` are\n",
    "    used for the metrology correction (non-common path errors)\n",
    "\n",
    "-   `OI_VIS_ACQ`: Not used\n",
    "\n",
    "-   `SYLVESTRE`: only present in the `_s.fits` file, this extension\n",
    "    contains data used for alternative OPD dispersion and metrology\n",
    "    corrections\n",
    "\n",
    "The cleanGravity package\n",
    "========================\n",
    "\n",
    "Load a file\n",
    "-----------\n",
    "\n",
    "To simplify the manipulation of the data, a dedicated package is\n",
    "provided with the exoGravity pipeline: `cleanGravity`. The aim of that\n",
    "package is to provide an Python object-oriented interface to the GRAVITY\n",
    "data.\n",
    "\n",
    "Different classes are defined, to fit the specificity of the different\n",
    "GRAVITY file products:\n",
    "\n",
    "-   `GravityDualscivisAstrored`\n",
    "\n",
    "-   `GravitySinglefieldsAstrored`\n",
    "\n",
    "-   `GravityDualfieldScivis`\n",
    "\n",
    "-   `GravitySinglefieldScivis`\n",
    "\n",
    "In the exoGravity pipeline, only `GravityDualfieldAstrored` objects are\n",
    "used. The syntax to load a file into on of these objects is always\n",
    "similar. In the most basic form, you only need to specify the name of\n",
    "the FITS file to load, as well as the extension (when you have different\n",
    "polarizations, you have different extensions):\n",
    "\n",
    "[1] https://heasarc.gsfc.nasa.gov/ftools/fv/"
   ],
   "attachments": {
    "figures/fv.png": {
     "image/png": "[encoded data removed]"
    }
   }
  },
  {
   "cell_type": "code",
   "execution_count": null,
   "metadata": {},
   "outputs": [],
   "source": [
    "# load a file with cleanGravity\n",
    "import cleanGravity as cg\n",
    "oi = cg.GravityDualfieldAstrored(\"./data/GRAVI.2019-11-11T06:29:03.495_astroreduced.fits\", extension = 10)"
   ]
  },
  {
   "cell_type": "markdown",
   "metadata": {},
   "source": [
    "When the `GravityOi` object is created, several attributes are created:\n",
    "\n",
    "-   `oi.header` is an astropy object, which contain the main header\n",
    "\n",
    "-   `oi.visOi` contains the data from the `OI_VIS`. It is a `visOi`\n",
    "    object, as defined in the `cleanGravity` package\n",
    "\n",
    "-   `oi.fluxOi` contains the data from the `FLUX_VIS`, in a `fluxOi`\n",
    "    object\n",
    "\n",
    "-   Several useful attributes are also loaded from the header, like\n",
    "    `oi.sObjX` and `oi.sObjY` (position of the fiber), `oi.mjd` (time of\n",
    "    observation), etc. Please refer to the documentation of the package\n",
    "\n",
    "Once the `GravityOi` object is created, the different data sets are\n",
    "automatically loaded and reshaped in numpy arrays, complex or reals\n",
    "(depending on the data). The shape of these arrays is always:\n",
    "$$\\text{Shape of the numpy data arrays in cleanGravity:} \\qquad \\left[n_\\mathrm{DIT}, n_\\mathrm{channels}, n_\\mathrm{wav}\\right]$$\n",
    "Where $n_\\mathrm{DIT}$ is the number of DITs in the exposure file,\n",
    "$n_\\mathrm{channels}$ the number of channels in the OI (4 channels\n",
    "corresponding to 4 telescopes in the `FLUX_OI`, 6 channels for 6\n",
    "baselines in `VIS_OI`), and $n_\\mathrm{wav}$ corresponds to the number\n",
    "of wavelength points.\n",
    "\n",
    "For example:"
   ]
  },
  {
   "cell_type": "code",
   "execution_count": null,
   "metadata": {},
   "outputs": [],
   "source": [
    "# print the shape of visibility data\n",
    "print(\"Visibility data array is of shape {}\".format(oi.visOi.visData.shape))"
   ]
  },
  {
   "cell_type": "markdown",
   "metadata": {},
   "source": [
    "As another example, you can plot the flux on each telescope as a\n",
    "function of wavelength using something like:"
   ]
  },
  {
   "cell_type": "code",
   "execution_count": null,
   "metadata": {},
   "outputs": [],
   "source": [
    "# plot the flux on each telescope\n",
    "import matplotlib.pyplot as plt\n",
    "fig = plt.figure(figsize=(12, 8))\n",
    "for k in range(oi.fluxOi.nchannel):\n",
    "    ax = fig.add_subplot(2, 2, k+1)\n",
    "    ax.plot(oi.wav*1e6, oi.fluxOi.flux[0, k, :])\n",
    "    ax.set_xlabel(\"Wavelength ($\\mu$m)\")\n",
    "    ax.set_ylabel(\"Flux (ADU/s)\")\n",
    "    ax.set_title(\"Flux of DIT=0 for telescope {}\".format(oi.telnames[k]))\n",
    "plt.show()"
   ]
  },
  {
   "cell_type": "markdown",
   "metadata": {},
   "source": [
    "Plotting with gravityPlot\n",
    "-------------------------\n",
    "\n",
    "The visibility data contained in `oi.visOi.visData` are complex numbers.\n",
    "To plot them, you need to separate real/imaginary, modulus/phase, or use\n",
    "3D graphs. To make things easier for a quick view at the data, the\n",
    "`cleanGravity` also provides some plotting functions. These are not\n",
    "automatically loaded at the import of the package, to allow for changing\n",
    "the configuation of `matplotlib` if needed, before importing the plot\n",
    "functions. You can import these functions, and plot the visibilities in\n",
    "real/imaginary parts using:"
   ]
  },
  {
   "cell_type": "code",
   "execution_count": null,
   "metadata": {},
   "outputs": [],
   "source": [
    "# plot visibilities using cleanGravity.gravityPlot\n",
    "from cleanGravity import gravityPlot as gplot\n",
    "import numpy as np\n",
    "gplot.reImPlot(np.tile(oi.wav, (oi.visOi.nchannel, 1)), oi.visOi.visData[0, :, :], subtitles = oi.basenames)"
   ]
  },
  {
   "cell_type": "markdown",
   "metadata": {},
   "source": [
    "The `modPhasePlot` function does the same thing, but in modulus/phase\n",
    "instead of real/imaginary parts. You can also plot a real quantity over\n",
    "several channels at once using the `baselinePlot` function. For example,\n",
    "instead of looping over the telescopes to plot the flux, you can use the\n",
    "one-liner:"
   ]
  },
  {
   "cell_type": "code",
   "execution_count": null,
   "metadata": {},
   "outputs": [],
   "source": [
    "# for purely real data (like the flux)\n",
    "gplot.baselinePlot(np.tile(oi.wav, (oi.fluxOi.nchannel, 1)), oi.fluxOi.flux[0, :, :], subtitles = oi.telnames)"
   ]
  },
  {
   "cell_type": "markdown",
   "metadata": {},
   "source": [
    "Standard phase corrections\n",
    "--------------------------\n",
    "\n",
    "The `cleanGravity` package also provides methods to apply the phase\n",
    "corrections to the “astrored” data. The FT referencing is automatically\n",
    "applied when the data are loaded, and the resulting “FT referenced”\n",
    "visibilities are available in `oi.visOi.visRef`. To apply the OPD\n",
    "dispersion correction, just call `oi.corrDisp()`, or\n",
    "`oi.corrDispSylvestre()`, if you want to use the Sylvestre special\n",
    "correction (only with a `_s.fits` file). Similarly, to apply the\n",
    "metrology (non common path) correction, call `oi.corrMet()`, or\n",
    "`oi.corrMetSylvestre()`.\n",
    "\n",
    "The phase corrections are always performed on the `oi.visOi.visRef`\n",
    "arrays. The `oi.visOi.visData` stays at the initial values, which give\n",
    "the raw visibilities.\n",
    "\n",
    "These corrections can be automatically applied when loading the data, by\n",
    "setting the `corrDisp` or `corrMet` kwargs:"
   ]
  },
  {
   "cell_type": "code",
   "execution_count": null,
   "metadata": {},
   "outputs": [],
   "source": [
    "# apply phase corrections when loading the file\n",
    "oi = cg.GravityDualfieldAstrored(\"./data/GRAVI.2019-11-11T06:29:03.495_astroreduced.fits\", extension = 10, corrDisp = \"drs\", corrMet = \"drs\")"
   ]
  }
 ],
 "nbformat": 4,
 "nbformat_minor": 5,
 "metadata": {}
}
