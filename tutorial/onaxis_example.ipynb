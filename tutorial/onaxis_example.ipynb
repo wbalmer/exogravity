{
 "cells": [
  {
   "cell_type": "markdown",
   "metadata": {},
   "source": [
    "On-axis example\n",
    "===============\n",
    "\n",
    "**Note: It is recommended that you the “swap” example of\n",
    "Section <a href=\"#sec:swap_example\" data-reference-type=\"ref\" data-reference=\"sec:swap_example\">[sec:swap_example]</a>\n",
    "before this one.**\n",
    "\n",
    "Observations\n",
    "------------\n",
    "\n",
    "For this example, the data provided are a small subset of the data\n",
    "obtained on $\\beta$ Pictoris in September 2018. There are 5 files,\n",
    "contained in the “betapic” directory. Let’s start by loading the files,\n",
    "and printing some interesting infos. We will automatically apply the\n",
    "same OPD dispersion and metrology corrections as the pipeline does,\n",
    "using `corrDisp = \"drs\"` and `corrMet = \"drs\"`."
   ]
  },
  {
   "cell_type": "code",
   "execution_count": null,
   "metadata": {},
   "outputs": [],
   "source": [
    "# import\n",
    "import numpy as np\n",
    "import cleanGravity as cg\n",
    "import glob\n",
    "\n",
    "# load files\n",
    "datafiles = glob.glob(\"./data/onaxis/*.fits\")\n",
    "datafiles.sort()\n",
    "ois = []\n",
    "for filename in datafiles:\n",
    "    oi = cg.GravityDualfieldAstrored(filename, extension = 10, corrDisp = \"drs\", corrMet = \"drs\")\n",
    "    # print some info\n",
    "    print(\"At mjd={:.4f}, fiber was at RA={:.2f} mas, DEC={:.2f} mas, flux was {:.2f} ADU/s\".format(oi.mjd, oi.sObjX, oi.sObjY, oi.fluxOi.flux.mean()))\n",
    "    ois.append(oi)"
   ]
  },
  {
   "cell_type": "markdown",
   "metadata": {},
   "source": [
    "This will give you the following output, in which you may recognize the\n",
    "observing strategy used for an on-axis target, where the fiber moves\n",
    "back-and-forth from the star to the planet:\n",
    "\n",
    "    At mjd=58383.3408, fiber was at RA=0.35 mas, DEC=0.63 mas, flux was 102581.03 ADU/s\n",
    "    At mjd=58383.3415, fiber was at RA=72.00 mas, DEC=123.00 mas, flux was 2438.96 ADU/s\n",
    "    At mjd=58383.3454, fiber was at RA=0.35 mas, DEC=0.63 mas, flux was 98523.78 ADU/s\n",
    "\n",
    "In this case, only 3 files are provided, but the complete sequence on\n",
    "$\\beta$ Pic contained many more. The small offset for the on-star\n",
    "position is due to the acquisition sequence, in which it is necessary to\n",
    "set a small ofset to ensure the correct alignment of the beamsplitter in\n",
    "the instrument. Let’s separate the two types of observations:"
   ]
  },
  {
   "cell_type": "code",
   "execution_count": null,
   "metadata": {},
   "outputs": [],
   "source": [
    "# separate on-star from on-planet\n",
    "starOis = [ois[0], ois[2]]\n",
    "plaOi = ois[1]"
   ]
  },
  {
   "cell_type": "markdown",
   "metadata": {},
   "source": [
    "Phase referencing the visibilities\n",
    "----------------------------------\n",
    "\n",
    "The first step in the data reduction process is to calculate the\n",
    "phase-reference. In the swap example of\n",
    "Section <a href=\"#sec:swap_example\" data-reference-type=\"ref\" data-reference=\"sec:swap_example\">[sec:swap_example]</a>,\n",
    "the phase-reference was calculated by adding the two swap positions. In\n",
    "this on-axis example, the strategy to calculate the phase-reference is\n",
    "even simpler. Since the star is on the axis, the star itself is the\n",
    "reference is RA/DEC. Thus, its astrophyscial phase is zero, and the\n",
    "phase of its visibility (corrected for all the usual effects) is\n",
    "directly given by: $$\\phi(u, v) = \\phi_\\mathrm{ref}(u, v)$$\n",
    "\n",
    "Thus, in an on-axis observation, the phase reference can be extracted\n",
    "simply by calculating the mean of the star observations. What’s even\n",
    "better is that since the star is at zero OPD, there is no need for\n",
    "shifting the visibilities before calculating the average. The visibility\n",
    "reference is simply:"
   ]
  },
  {
   "cell_type": "code",
   "execution_count": null,
   "metadata": {},
   "outputs": [],
   "source": [
    "# calculate the visbility reference\n",
    "visReference = 0.5*(starOis[0].visOi.visRef.mean(axis = 0) + starOis[1].visOi.visRef.mean(axis = 0))"
   ]
  },
  {
   "cell_type": "markdown",
   "metadata": {},
   "source": [
    "From which we can extract a reference for the amplitude and a reference\n",
    "for the phase:"
   ]
  },
  {
   "cell_type": "code",
   "execution_count": null,
   "metadata": {},
   "outputs": [],
   "source": [
    "# get the reference amplitude and phase\n",
    "ampRef = np.abs(visReference)\n",
    "phaseRef = np.angle(visReference)"
   ]
  },
  {
   "cell_type": "markdown",
   "metadata": {},
   "source": [
    "The on-planet visibility is phase-referenced by:"
   ]
  },
  {
   "cell_type": "code",
   "execution_count": null,
   "metadata": {},
   "outputs": [],
   "source": [
    "# phase-reference the on-planet observation\n",
    "plaOi.visOi.addPhase(-phaseRef)"
   ]
  },
  {
   "cell_type": "markdown",
   "metadata": {},
   "source": [
    "Subtracting the star\n",
    "--------------------\n",
    "\n",
    "Now that the visibility is phase-referenced, let’s plot it to see what\n",
    "it looks like:"
   ]
  },
  {
   "cell_type": "code",
   "execution_count": null,
   "metadata": {},
   "outputs": [],
   "source": [
    "# plot the phase-referenced visibility\n",
    "import matplotlib.pyplot as plt\n",
    "from cleanGravity import gravityPlot as gplot\n",
    "fig = plt.figure()\n",
    "gplot.reImPlot(np.tile(plaOi.wav*1e6, (plaOi.visOi.nchannel, 1)), plaOi.visOi.visRef.mean(axis = 0), subtitles = plaOi.basenames, fig = fig)"
   ]
  },
  {
   "cell_type": "markdown",
   "metadata": {},
   "source": [
    "So where are the fringes? We actually can’t see them, because the\n",
    "visibilities are dominated by the star. So we first need to remove the\n",
    "stellar component. To do that, you can fit a a low-order polynomial in\n",
    "wavelength, multiplied by the reference amplitude, to take into account\n",
    "the chromaticity of this “speckel noise”. Since there can also be some\n",
    "small fluctuations in the phase, its best to do the fitting with complex\n",
    "coefficients. The fit is done baseline per baseline, dit per dit:"
   ]
  },
  {
   "cell_type": "code",
   "execution_count": null,
   "metadata": {},
   "outputs": [],
   "source": [
    "# fit the stellar component with a polynomial\n",
    "polyOrder = 4\n",
    "Y = np.zeros([oi.nwav, 1], 'complex')\n",
    "X = np.zeros([oi.nwav, polyOrder+1])\n",
    "starFit = np.zeros([plaOi.visOi.ndit, plaOi.visOi.nchannel, plaOi.nwav], 'complex')\n",
    "for c in range(plaOi.visOi.nchannel):\n",
    "    for k in range(polyOrder+1):\n",
    "        X[:, k] = ampRef[c, :]*((plaOi.wav - plaOi.wav.mean(axis = 0))*1e6)**k\n",
    "    for dit in range(plaOi.visOi.ndit):\n",
    "        Y[:, 0] = plaOi.visOi.visRef[dit, c, :]\n",
    "        A = np.dot(np.linalg.pinv(X), Y)\n",
    "        starFit[dit, c, :] = np.dot(X, A)[:, 0]        "
   ]
  },
  {
   "cell_type": "markdown",
   "metadata": {},
   "source": [
    "To overplot the result to the previous figure:"
   ]
  },
  {
   "cell_type": "code",
   "execution_count": null,
   "metadata": {},
   "outputs": [],
   "source": [
    "# overplot the result of the fit to the previous fig\n",
    "gplot.reImPlot(np.tile(oi.wav*1e6, (oi.visOi.nchannel, 1)), starFit.mean(axis = 0), fig = fig)"
   ]
  },
  {
   "cell_type": "markdown",
   "metadata": {},
   "source": [
    "Now we can subtract this stellar component to the visibilities, and plot\n",
    "the residuals in a new figure:"
   ]
  },
  {
   "cell_type": "code",
   "execution_count": null,
   "metadata": {},
   "outputs": [],
   "source": [
    "# subtract the stellar component for the planet OI and plot the result\n",
    "plaOi.visOi.visRef = plaOi.visOi.visRef - starFit\n",
    "fig = plt.figure()\n",
    "gplot.reImPlot(np.tile(oi.wav*1e6, (oi.visOi.nchannel, 1)), plaOi.visOi.visRef[0, :, :], subtitles = plaOi.basenames, fig = fig)"
   ]
  },
  {
   "cell_type": "markdown",
   "metadata": {},
   "source": [
    "Extracting the astrometry\n",
    "-------------------------\n",
    "\n",
    "Once the visibilities are properly corrected, and the stellar component\n",
    "removed, fitting for the astrometry can be done in the same way as for\n",
    "the swap example:"
   ]
  },
  {
   "cell_type": "code",
   "execution_count": null,
   "metadata": {},
   "outputs": [],
   "source": [
    "# extract the astrometry using a chi2 map approach\n",
    "raValues = np.linspace(66, 70, 20) # the ra grid\n",
    "decValues = np.linspace(124, 128, 20) # the dec grid\n",
    "chi2Map = np.zeros([plaOi.visOi.ndit, len(raValues), len(decValues)]) # one map for each dit\n",
    "Y, X = np.zeros([1, 2*plaOi.nwav]), np.zeros([1, 2*plaOi.nwav]) # Y will contain data, X will contain model\n",
    "planetFit = np.zeros([plaOi.visOi.ndit, plaOi.visOi.nchannel, plaOi.nwav], 'complex') # to save the fit\n",
    "chi2Min = np.inf\n",
    "for m in range(len(raValues)):\n",
    "    for n in range(len(decValues)): # loop through grid\n",
    "        ra, dec = raValues[m]/1000.0/3600.0/180.0*np.pi, decValues[n]/1000.0/3600.0/180.0*np.pi # convert to rad\n",
    "        wavelet = np.exp(-1j*2*np.pi*(ra*plaOi.visOi.uCoord+dec*plaOi.visOi.vCoord)) # the visibility model, without the amplitude\n",
    "        for dit in range(plaOi.visOi.ndit):\n",
    "            for c in range(plaOi.visOi.nchannel): \n",
    "                # here we need to explicitly separate the real/imag parts and do the fitting for the\n",
    "                # scaling coefficient in real numbers. Otherwise we would get a complex coeff, which\n",
    "                # means it would also be fitting for the phase offset. \n",
    "                X[0, 0:plaOi.nwav] = np.real(wavelet[dit, c, :]) # model\n",
    "                X[0, plaOi.nwav:] = np.imag(wavelet[dit, c, :]) # model               \n",
    "                Y[0, 0:plaOi.nwav] = np.real(plaOi.visOi.visRef[dit, c, :]) # data \n",
    "                Y[0, plaOi.nwav:] = np.imag(plaOi.visOi.visRef[dit, c, :]) # data\n",
    "                coeff = np.dot(Y, np.linalg.pinv(X)) # linear fit\n",
    "                if coeff[0, 0] < 0: # if coeff is negative, set model to 0 and redo the fit\n",
    "                    coeff[0, 0] = 0\n",
    "                    X[0, :] = 0\n",
    "                    coeff = np.dot(Y, np.linalg.pinv(X))\n",
    "                Yfit = np.dot(coeff, X)\n",
    "                planetFit[dit, c, :] = Yfit[0, 0:plaOi.nwav] + 1j*Yfit[0, plaOi.nwav:]\n",
    "                chi2Map[dit, m, n] = chi2Map[dit, m, n]+np.sum((Y-Yfit)**2) # sum of squared differences\n",
    "        if chi2Map[0, m, n] < chi2Min: # just for the example, we look for best fit on first dit\n",
    "            bestPlanetFit = np.copy(planetFit)\n",
    "            chi2Min = chi2Map[dit, m, n]\n",
    "gplot.reImPlot(np.tile(oi.wav*1e6, (oi.visOi.nchannel, 1)), bestPlanetFit[0, :, :], fig = fig)        \n",
    "# show the map\n",
    "plt.figure()\n",
    "plt.imshow(np.sum(chi2Map, axis = 0).T, origin=\"lower\", extent = [np.min(raValues), np.max(raValues), np.min(decValues), np.max(decValues)])"
   ]
  },
  {
   "cell_type": "markdown",
   "metadata": {},
   "source": [
    "The last lines are here to overplot the result of the best fit for the\n",
    "first dit, and to display the $\\chi^2$ map.\n",
    "\n",
    "Although this fit already gives a decent result, it is suboptimal in\n",
    "many different ways. First off, the amplitude of the fringes of the\n",
    "planet is not taken into account. To refine the astrometry, a model of\n",
    "the planet visibility amplitude can be obtained by using a model\n",
    "contrast spectrum (from a model of the planet and a model of the star),\n",
    "multiplied by the `ampRef` term calculated from the star exposures.\n",
    "Then, the stellar subtraction should not be done independantly of the\n",
    "planet fringes fit, but a complete model, which include both elements,\n",
    "should be used. And finally, the error terms should be properly taken\n",
    "into account. The exoGravity pipeline includes all these improvements,\n",
    "as well as some other minor things."
   ]
  }
 ],
 "nbformat": 4,
 "nbformat_minor": 5,
 "metadata": {}
}
